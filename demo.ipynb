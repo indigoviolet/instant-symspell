{
 "cells": [
  {
   "cell_type": "code",
   "execution_count": 1,
   "id": "bbbc2db0",
   "metadata": {
    "collapsed": false
   },
   "outputs": [],
   "source": [
    "%reload_ext autoreload\n",
    "%autoreload 2\n",
    "\n",
    "\n",
    "from IPython.core.interactiveshell import InteractiveShell\n",
    "\n",
    "InteractiveShell.ast_node_interactivity = \"all\""
   ]
  },
  {
   "cell_type": "code",
   "execution_count": null,
   "id": "387d5c76",
   "metadata": {
    "collapsed": false
   },
   "outputs": [],
   "source": [
    "import pkg_resources\n",
    "from symspellpy.symspellpy import SymSpell\n",
    "# Set max_dictionary_edit_distance to avoid spelling correction\n",
    "sym_spell = SymSpell(max_dictionary_edit_distance=3, prefix_length=7)\n",
    "dictionary_path = pkg_resources.resource_filename(\n",
    "    \"symspellpy\", \"frequency_dictionary_en_82_765.txt\"\n",
    ")\n",
    "# term_index is the column of the term and count_index is the\n",
    "# column of the term frequency\n",
    "sym_spell.load_dictionary(dictionary_path, term_index=0, count_index=1)"
   ]
  },
  {
   "cell_type": "code",
   "execution_count": 6,
   "id": "0245bc88",
   "metadata": {
    "collapsed": false
   },
   "outputs": [
    {
     "name": "stdout",
     "output_type": "stream",
     "text": [
      "miraculous did it, 3, -12.142232874753333\n"
     ]
    }
   ],
   "source": [
    "input_term = \"miraclousdidit\"\n",
    "result = sym_spell.word_segmentation(input_term)\n",
    "print(f\"{result.corrected_string}, {result.distance_sum}, {result.log_prob_sum}\")"
   ]
  },
  {
   "cell_type": "code",
   "execution_count": null,
   "id": "454fe7ee",
   "metadata": {
    "collapsed": false
   },
   "outputs": [],
   "source": []
  }
 ],
 "metadata": {
  "kernelspec": {
   "argv": [
    "/home/venky/dev/symspell/.venv/bin/python",
    "-m",
    "ipykernel_launcher",
    "-f",
    "{connection_file}"
   ],
   "display_name": "symspell",
   "env": null,
   "interrupt_mode": "signal",
   "language": "python",
   "metadata": {
    "debugger": true
   },
   "name": "symspell"
  },
  "name": "demo.ipynb"
 },
 "nbformat": 4,
 "nbformat_minor": 5
}
