{
 "cells": [
  {
   "cell_type": "code",
   "execution_count": 1,
   "id": "15a8ed80",
   "metadata": {
    "collapsed": false
   },
   "outputs": [],
   "source": [
    "%reload_ext autoreload\n",
    "%autoreload 2\n",
    "\n",
    "\n",
    "from IPython.core.interactiveshell import InteractiveShell\n",
    "\n",
    "InteractiveShell.ast_node_interactivity = \"all\""
   ]
  },
  {
   "cell_type": "code",
   "execution_count": null,
   "id": "679d345a",
   "metadata": {
    "collapsed": false
   },
   "outputs": [],
   "source": [
    "import pkg_resources\n",
    "from symspellpy.symspellpy import SymSpell, Composition\n",
    "\n",
    "from typing import Optional\n",
    "from tqdm import tqdm"
   ]
  },
  {
   "cell_type": "code",
   "execution_count": 35,
   "id": "3dba30ad",
   "metadata": {
    "collapsed": false
   },
   "outputs": [
    {
     "data": {
      "text/plain": [
       "True"
      ]
     },
     "execution_count": 35,
     "metadata": {},
     "output_type": "execute_result"
    }
   ],
   "source": [
    "# Set max_dictionary_edit_distance to avoid spelling correction\n",
    "spell = SymSpell(max_dictionary_edit_distance=4, prefix_length=7)\n",
    "dictionary_path = pkg_resources.resource_filename(\"symspellpy\", \"frequency_dictionary_en_82_765.txt\")\n",
    "\n",
    "# term_index is the column of the term and count_index is the\n",
    "# column of the term frequency\n",
    "spell.load_dictionary(dictionary_path, term_index=0, count_index=1)"
   ]
  },
  {
   "cell_type": "code",
   "execution_count": 40,
   "id": "2ea0c3f2",
   "metadata": {
    "collapsed": false
   },
   "outputs": [],
   "source": [
    "def compare_seg(input: str, spell: SymSpell, max_edit_distance: int) -> Optional[tuple[Composition, Composition]]:\n",
    "    with_spell = spell.word_segmentation(input, max_edit_distance=max_edit_distance)\n",
    "    without_spell = spell.word_segmentation(input, max_edit_distance=0)\n",
    "    if with_spell.corrected_string == without_spell.corrected_string:\n",
    "        return None\n",
    "    return (with_spell, without_spell)"
   ]
  },
  {
   "cell_type": "code",
   "execution_count": 68,
   "id": "77493ad0",
   "metadata": {
    "collapsed": false
   },
   "outputs": [
    {
     "data": {
      "text/plain": [
       "(Composition(segmented_string='miraclous did it', corrected_string='miraculous did it', distance_sum=3, log_prob_sum=-12.142232874753333),\n",
       " Composition(segmented_string='mira clo us did it', corrected_string='mira clo us did it', distance_sum=7, log_prob_sum=-28.825918894268174))"
      ]
     },
     "execution_count": 68,
     "metadata": {},
     "output_type": "execute_result"
    }
   ],
   "source": [
    "compare_seg('miraclousdidit', spell, 2)"
   ]
  },
  {
   "cell_type": "code",
   "execution_count": 60,
   "id": "bdc6e669",
   "metadata": {
    "collapsed": false
   },
   "outputs": [
    {
     "data": {
      "text/plain": [
       "1030"
      ]
     },
     "execution_count": 60,
     "metadata": {},
     "output_type": "execute_result"
    }
   ],
   "source": [
    "instant_domains = [x.strip() for x in open('instant-domains.csv').readlines()]\n",
    "len(instant_domains)"
   ]
  },
  {
   "cell_type": "code",
   "execution_count": null,
   "id": "9e69043d",
   "metadata": {
    "collapsed": false
   },
   "outputs": [],
   "source": [
    "comps = [compare_seg(i, spell, 2) for i in tqdm(instant_domains)]"
   ]
  },
  {
   "cell_type": "code",
   "execution_count": null,
   "id": "13c5914b",
   "metadata": {
    "collapsed": false
   },
   "outputs": [
    {
     "data": {
      "text/plain": [
       "(Composition(segmented_string='fiverax', corrected_string='rivera', distance_sum=2, log_prob_sum=-5.665092898954126),\n",
       " Composition(segmented_string='fiver ax', corrected_string='fiver ax', distance_sum=3, log_prob_sum=-19.87040796373899))"
      ]
     },
     "execution_count": 74,
     "metadata": {},
     "output_type": "execute_result"
    }
   ],
   "source": [
    "diffs = [c for c in comps if c is not None]\n",
    "len(diffs)\n",
    "diffs[0]"
   ]
  },
  {
   "cell_type": "code",
   "execution_count": null,
   "id": "e8573edd",
   "metadata": {
    "collapsed": false
   },
   "outputs": [],
   "source": [
    "import csv\n",
    "with open('diffs_2.csv', 'w') as f:\n",
    "    wr = csv.DictWriter(f, fieldnames=['domain', 'corr', 'no_corr', 'corr_d', 'no_corr_d', 'corr_p', 'no_corr_p'])\n",
    "    wr.writeheader()\n",
    "    for w, wo in diffs:\n",
    "        wr.writerow({\n",
    "            'domain': f'{wo.corrected_string.replace(\" \", \"\")}.com',\n",
    "            'corr': w.corrected_string,\n",
    "            'no_corr': wo.corrected_string,\n",
    "            'corr_d': w.distance_sum,\n",
    "            'corr_p': w.log_prob_sum,\n",
    "            'no_corr_d': wo.distance_sum,\n",
    "            'no_corr_p': wo.log_prob_sum}) "
   ]
  },
  {
   "cell_type": "code",
   "execution_count": 88,
   "id": "c204b4d6",
   "metadata": {
    "collapsed": false
   },
   "outputs": [
    {
     "data": {
      "text/html": [
       "<div>\n",
       "<style scoped>\n",
       "    .dataframe tbody tr th:only-of-type {\n",
       "        vertical-align: middle;\n",
       "    }\n",
       "\n",
       "    .dataframe tbody tr th {\n",
       "        vertical-align: top;\n",
       "    }\n",
       "\n",
       "    .dataframe thead th {\n",
       "        text-align: right;\n",
       "    }\n",
       "</style>\n",
       "<table border=\"1\" class=\"dataframe\">\n",
       "  <thead>\n",
       "    <tr style=\"text-align: right;\">\n",
       "      <th></th>\n",
       "      <th>domain</th>\n",
       "      <th>corr</th>\n",
       "      <th>no_corr</th>\n",
       "      <th>corr_d</th>\n",
       "      <th>no_corr_d</th>\n",
       "      <th>corr_p</th>\n",
       "      <th>no_corr_p</th>\n",
       "    </tr>\n",
       "  </thead>\n",
       "  <tbody>\n",
       "    <tr>\n",
       "      <th>636</th>\n",
       "      <td>sydneybrachytherapy.com</td>\n",
       "      <td>sydney racy therapy</td>\n",
       "      <td>sydney brach y therapy</td>\n",
       "      <td>4</td>\n",
       "      <td>4</td>\n",
       "      <td>-15.476148</td>\n",
       "      <td>-28.076489</td>\n",
       "    </tr>\n",
       "    <tr>\n",
       "      <th>637</th>\n",
       "      <td>deepmindvsopenai.com</td>\n",
       "      <td>deep minds open</td>\n",
       "      <td>deep mind vs open a i</td>\n",
       "      <td>5</td>\n",
       "      <td>7</td>\n",
       "      <td>-12.945435</td>\n",
       "      <td>-29.631663</td>\n",
       "    </tr>\n",
       "    <tr>\n",
       "      <th>638</th>\n",
       "      <td>rilednradical.com</td>\n",
       "      <td>riled radical</td>\n",
       "      <td>riled n radical</td>\n",
       "      <td>2</td>\n",
       "      <td>3</td>\n",
       "      <td>-12.009431</td>\n",
       "      <td>-24.020116</td>\n",
       "    </tr>\n",
       "    <tr>\n",
       "      <th>639</th>\n",
       "      <td>reaphemp.com</td>\n",
       "      <td>reach emp</td>\n",
       "      <td>reap hemp</td>\n",
       "      <td>2</td>\n",
       "      <td>1</td>\n",
       "      <td>-10.252955</td>\n",
       "      <td>-11.425282</td>\n",
       "    </tr>\n",
       "    <tr>\n",
       "      <th>640</th>\n",
       "      <td>lonestarerides.com</td>\n",
       "      <td>lowest are rides</td>\n",
       "      <td>lone stare rides</td>\n",
       "      <td>3</td>\n",
       "      <td>2</td>\n",
       "      <td>-12.210575</td>\n",
       "      <td>-16.222795</td>\n",
       "    </tr>\n",
       "  </tbody>\n",
       "</table>\n",
       "</div>"
      ],
      "text/plain": [
       "                      domain                 corr                 no_corr  \\\n",
       "636  sydneybrachytherapy.com  sydney racy therapy  sydney brach y therapy   \n",
       "637     deepmindvsopenai.com      deep minds open   deep mind vs open a i   \n",
       "638        rilednradical.com        riled radical         riled n radical   \n",
       "639             reaphemp.com            reach emp               reap hemp   \n",
       "640       lonestarerides.com     lowest are rides        lone stare rides   \n",
       "\n",
       "     corr_d  no_corr_d     corr_p  no_corr_p  \n",
       "636       4          4 -15.476148 -28.076489  \n",
       "637       5          7 -12.945435 -29.631663  \n",
       "638       2          3 -12.009431 -24.020116  \n",
       "639       2          1 -10.252955 -11.425282  \n",
       "640       3          2 -12.210575 -16.222795  "
      ]
     },
     "execution_count": 88,
     "metadata": {},
     "output_type": "execute_result"
    }
   ],
   "source": [
    "import pandas as pd\n",
    "pd.read_csv('diffs_2.csv').tail()"
   ]
  }
 ],
 "metadata": {
  "kernelspec": {
   "argv": [
    "/home/venky/dev/symspell/.venv/bin/python",
    "-m",
    "ipykernel_launcher",
    "-f",
    "{connection_file}"
   ],
   "display_name": "symspell",
   "env": null,
   "interrupt_mode": "signal",
   "language": "python",
   "metadata": {
    "debugger": true
   },
   "name": "symspell"
  },
  "name": "demo.ipynb"
 },
 "nbformat": 4,
 "nbformat_minor": 5
}
